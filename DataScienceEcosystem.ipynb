{
 "cells": [
  {
   "cell_type": "markdown",
   "id": "0244a43f",
   "metadata": {},
   "source": [
    "# Data Science Tools and Ecosystem"
   ]
  },
  {
   "cell_type": "markdown",
   "id": "ec9cb263",
   "metadata": {},
   "source": [
    "We summarized Data Science and Ecosystem Tools in the notebook listed below."
   ]
  },
  {
   "cell_type": "markdown",
   "id": "ebb57d94",
   "metadata": {},
   "source": [
    "__Objectives:__\n",
    "* Popular Libraries\n",
    "* Solving basic math problems\n",
    "* Data Science tools"
   ]
  },
  {
   "cell_type": "markdown",
   "id": "8d6dc3f0",
   "metadata": {},
   "source": [
    "Some of the popular languages that Data Scientist use are:\n",
    "1. Python\n",
    "2. R\n",
    "3. SQL"
   ]
  },
  {
   "cell_type": "markdown",
   "id": "4847a760",
   "metadata": {},
   "source": [
    "Some of the commonly used libraries used by Data Scientist include:\n",
    "1. Pandas\n",
    "2. Numpy\n",
    "3. TensorFlow\n",
    "4. Matplotlib"
   ]
  },
  {
   "cell_type": "markdown",
   "id": "267151b2",
   "metadata": {},
   "source": [
    "| Data Science Tools|\n",
    "|----------------|\n",
    "|Hadoop|\n",
    "|Tableau|\n",
    "|Jupyter|"
   ]
  },
  {
   "cell_type": "markdown",
   "id": "8d8127e1",
   "metadata": {},
   "source": [
    "### Below are a few examples of evaluating arithmetic expressions in Python\n"
   ]
  },
  {
   "cell_type": "code",
   "execution_count": 2,
   "id": "35311016",
   "metadata": {},
   "outputs": [
    {
     "data": {
      "text/plain": [
       "17"
      ]
     },
     "execution_count": 2,
     "metadata": {},
     "output_type": "execute_result"
    }
   ],
   "source": [
    "(3*4)+5\n",
    "# This is a simple arithmetic expression to multiply then add integers"
   ]
  },
  {
   "cell_type": "code",
   "execution_count": 4,
   "id": "9f22b111",
   "metadata": {},
   "outputs": [
    {
     "data": {
      "text/plain": [
       "3.3333333333333335"
      ]
     },
     "execution_count": 4,
     "metadata": {},
     "output_type": "execute_result"
    }
   ],
   "source": [
    "200/60\n",
    "# Above i have converted 200min and divided by 60 since its 60 mins in a hr\n",
    "# i then get 3 hrs and 33 mins."
   ]
  },
  {
   "cell_type": "markdown",
   "id": "9fb6cd2e",
   "metadata": {},
   "source": [
    "## Author \n",
    "David Phillips"
   ]
  },
  {
   "cell_type": "code",
   "execution_count": null,
   "id": "012f6288",
   "metadata": {},
   "outputs": [],
   "source": []
  }
 ],
 "metadata": {
  "kernelspec": {
   "display_name": "Python 3 (ipykernel)",
   "language": "python",
   "name": "python3"
  },
  "language_info": {
   "codemirror_mode": {
    "name": "ipython",
    "version": 3
   },
   "file_extension": ".py",
   "mimetype": "text/x-python",
   "name": "python",
   "nbconvert_exporter": "python",
   "pygments_lexer": "ipython3",
   "version": "3.11.5"
  }
 },
 "nbformat": 4,
 "nbformat_minor": 5
}
